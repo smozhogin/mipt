{
 "cells": [
  {
   "cell_type": "markdown",
   "id": "05414936-9719-4c82-8993-2743228cf6b2",
   "metadata": {},
   "source": [
    "# 1. Импортируем необходимые библиотеки #"
   ]
  },
  {
   "cell_type": "code",
   "execution_count": 1,
   "id": "997c1ed7-5e3f-4968-8dba-df64f99da642",
   "metadata": {},
   "outputs": [],
   "source": [
    "import numpy as np\n",
    "import pandas as pd\n",
    "import seaborn as sns\n",
    "\n",
    "from kaggle_environments import evaluate"
   ]
  },
  {
   "cell_type": "markdown",
   "id": "1081e512-2162-4216-a06a-2452642f5834",
   "metadata": {},
   "source": [
    "# 2. Определяем агентов #"
   ]
  },
  {
   "cell_type": "markdown",
   "id": "6cacea24-2461-4e62-82cf-d3fead7153b3",
   "metadata": {},
   "source": [
    "Опции для игры:\n",
    "- 0 - камень;\n",
    "- 1 - бумага;\n",
    "- 2 - ножницы."
   ]
  },
  {
   "cell_type": "markdown",
   "id": "162bef24-33a1-4793-9c30-138eb851d105",
   "metadata": {},
   "source": [
    "## 2.1. Агент, играющий всегда \"камень\" ##"
   ]
  },
  {
   "cell_type": "code",
   "execution_count": 2,
   "id": "5defebd4-18d5-4050-a027-d9c9e78fefd4",
   "metadata": {},
   "outputs": [
    {
     "name": "stdout",
     "output_type": "stream",
     "text": [
      "Writing AGENTS\\\\rock_agent.py\n"
     ]
    }
   ],
   "source": [
    "%%writefile AGENTS\\\\rock_agent.py\n",
    "def your_agent(observation, configuration):\n",
    "    return 0"
   ]
  },
  {
   "cell_type": "markdown",
   "id": "eae0f64a-a69c-491c-9e21-81ea2c3afe18",
   "metadata": {},
   "source": [
    "## 2.2. Агент, играющий всегда \"бумага\" ##"
   ]
  },
  {
   "cell_type": "code",
   "execution_count": 3,
   "id": "59754c39-e75f-4cbb-b88b-2c9d5eb92d64",
   "metadata": {},
   "outputs": [
    {
     "name": "stdout",
     "output_type": "stream",
     "text": [
      "Writing AGENTS\\\\paper_agent.py\n"
     ]
    }
   ],
   "source": [
    "%%writefile AGENTS\\\\paper_agent.py\n",
    "def your_agent(observation, configuration):\n",
    "    return 1"
   ]
  },
  {
   "cell_type": "markdown",
   "id": "d192fd43-0419-470c-8ac6-cf9dd507a76f",
   "metadata": {},
   "source": [
    "## 2.3. Агент, играющий всегда \"ножницы\" ##"
   ]
  },
  {
   "cell_type": "code",
   "execution_count": 4,
   "id": "8a8b2a62-a07a-4f8b-ab72-f721870c9f0c",
   "metadata": {},
   "outputs": [
    {
     "name": "stdout",
     "output_type": "stream",
     "text": [
      "Writing AGENTS\\\\scissors_agent.py\n"
     ]
    }
   ],
   "source": [
    "%%writefile AGENTS\\\\scissors_agent.py\n",
    "def your_agent(observation, configuration):\n",
    "    return 2"
   ]
  },
  {
   "cell_type": "markdown",
   "id": "986b55b3-f013-46f0-8ebb-581f7e70c602",
   "metadata": {},
   "source": [
    "## 2.4. Агент, копирующий предыдущее действие противника ##"
   ]
  },
  {
   "cell_type": "code",
   "execution_count": 5,
   "id": "82e4c21d-dac7-49af-8a3a-6b71ada2438e",
   "metadata": {},
   "outputs": [
    {
     "name": "stdout",
     "output_type": "stream",
     "text": [
      "Writing AGENTS\\\\copy_opponent_agent.py\n"
     ]
    }
   ],
   "source": [
    "%%writefile AGENTS\\\\copy_opponent_agent.py\n",
    "import random\n",
    "\n",
    "def copy_opponent(observation, configuration):\n",
    "    \n",
    "    # Случай, когда у нас есть информация о предыдущем действии противника\n",
    "    if observation.step > 0:\n",
    "        return observation.lastOpponentAction\n",
    "    \n",
    "    # При инициирующем шаге\n",
    "    else:\n",
    "        return random.randrange(0, configuration.signs)"
   ]
  },
  {
   "cell_type": "markdown",
   "id": "cd75ee92-a5da-4237-b6f6-344712686655",
   "metadata": {},
   "source": [
    "## 2.5. Агент, который реагирует на последние действия противника ##"
   ]
  },
  {
   "cell_type": "code",
   "execution_count": 6,
   "id": "ffe4ccc0-392c-4fff-8129-ac748db2a6bb",
   "metadata": {},
   "outputs": [
    {
     "name": "stdout",
     "output_type": "stream",
     "text": [
      "Writing AGENTS\\\\reactionary_agent.py\n"
     ]
    }
   ],
   "source": [
    "%%writefile AGENTS\\\\reactionary_agent.py\n",
    "import random\n",
    "import math\n",
    "\n",
    "def get_score(left_move, right_move):\n",
    "    delta = (\n",
    "        right_move - left_move\n",
    "        if (left_move + right_move) % 2 == 0\n",
    "        else left_move - right_move\n",
    "    )\n",
    "    return 0 if delta == 0 else math.copysign(1, delta)\n",
    "\n",
    "last_react_action = None\n",
    "def reactionary_agent(observation, configuration):\n",
    "    global last_react_action\n",
    "    if observation.step == 0:\n",
    "        last_react_action = random.randrange(0, configuration.signs)\n",
    "    elif get_score(last_react_action, observation.lastOpponentAction) <= 1:\n",
    "        last_react_action = (observation.lastOpponentAction + 1) % configuration.signs\n",
    "\n",
    "    return last_react_action"
   ]
  },
  {
   "cell_type": "markdown",
   "id": "97768fa1-2a2a-4f8f-99be-d295f8be8dcd",
   "metadata": {},
   "source": [
    "## 2.6. Агент, который выбирает действие в зависимости от результатов последних ходов ##"
   ]
  },
  {
   "cell_type": "code",
   "execution_count": 7,
   "id": "dab65d0c-6584-4ae3-a5d0-5741189fb274",
   "metadata": {},
   "outputs": [
    {
     "name": "stdout",
     "output_type": "stream",
     "text": [
      "Writing AGENTS\\\\counter_reactionary_agent.py\n"
     ]
    }
   ],
   "source": [
    "%%writefile AGENTS\\\\counter_reactionary_agent.py\n",
    "import random\n",
    "import math\n",
    "\n",
    "last_counter_action = None\n",
    "def get_score(left_move, right_move):\n",
    "    delta = (\n",
    "        right_move - left_move\n",
    "        if (left_move + right_move) % 2 == 0\n",
    "        else left_move - right_move\n",
    "    )\n",
    "    return 0 if delta == 0 else math.copysign(1, delta)\n",
    "\n",
    "def counter_reactionary_agent(observation, configuration):\n",
    "    global last_counter_action\n",
    "    if observation.step == 0:\n",
    "        last_counter_action = random.randrange(0, configuration.signs)\n",
    "    elif get_score(last_counter_action, observation.lastOpponentAction) == 1:\n",
    "        last_counter_action = (last_counter_action + 2) % configuration.signs\n",
    "    else:\n",
    "        last_counter_action = (observation.lastOpponentAction + 1) % configuration.signs\n",
    "\n",
    "    return last_counter_action"
   ]
  },
  {
   "cell_type": "markdown",
   "id": "983dae0a-c745-4075-822a-f8bcf05ec3b3",
   "metadata": {},
   "source": [
    "## 2.7. Агент, который анализирует статистику ходов противника ##"
   ]
  },
  {
   "cell_type": "code",
   "execution_count": 8,
   "id": "d3dc39de-db75-41d6-81c3-25a7a59eed90",
   "metadata": {},
   "outputs": [
    {
     "name": "stdout",
     "output_type": "stream",
     "text": [
      "Writing AGENTS\\\\statistical_agent.py\n"
     ]
    }
   ],
   "source": [
    "%%writefile AGENTS\\\\statistical_agent.py\n",
    "import random\n",
    "\n",
    "action_histogram = {}\n",
    "\n",
    "def statistical(observation, configuration):\n",
    "    global action_histogram\n",
    "    if observation.step == 0:\n",
    "        action_histogram = {}\n",
    "        return\n",
    "    action = observation.lastOpponentAction\n",
    "    if action not in action_histogram:\n",
    "        action_histogram[action] = 0\n",
    "    action_histogram[action] += 1\n",
    "    mode_action = None\n",
    "    mode_action_count = None\n",
    "    for k, v in action_histogram.items():\n",
    "        if mode_action_count is None or v > mode_action_count:\n",
    "            mode_action = k\n",
    "            mode_action_count = v\n",
    "            continue\n",
    "\n",
    "    return (mode_action + 1) % configuration.signs"
   ]
  },
  {
   "cell_type": "markdown",
   "id": "6fe3bcde-d494-435b-b8d9-e75988237ad5",
   "metadata": {},
   "source": [
    "# 3. Проводим турнир между агентами #"
   ]
  },
  {
   "cell_type": "markdown",
   "id": "5f8ec3ef-585c-4c8e-823d-1d22162cedd5",
   "metadata": {},
   "source": [
    "## 3.1. Определяем список агентов и пути к ним ##"
   ]
  },
  {
   "cell_type": "code",
   "execution_count": 9,
   "id": "e6ba3ead-2c36-4c33-9820-b28ec4af6514",
   "metadata": {},
   "outputs": [],
   "source": [
    "agents_list = [\"rock_agent\", \"paper_agent\", \"scissors_agent\", \"copy_opponent_agent\", \"reactionary_agent\", \"counter_reactionary_agent\", \"statistical_agent\"]\n",
    "\n",
    "base_directory = \"AGENTS\" # Директория, где хранятся агенты\n",
    "agents_paths_list = [f\"{base_directory}\\\\{agent_name}.py\" for agent_name in agents_list] # Формируем список путей к агентам"
   ]
  },
  {
   "cell_type": "markdown",
   "id": "6a78d415-f3c0-4120-9f80-a5e3262784c5",
   "metadata": {},
   "source": [
    "## 3.2. Определяем матрицу результатов ##"
   ]
  },
  {
   "cell_type": "code",
   "execution_count": 10,
   "id": "d6ed797d-87f0-44ad-877e-adc0a9a5e9f5",
   "metadata": {
    "scrolled": true
   },
   "outputs": [],
   "source": [
    "agents_num = len(agents_list) # Определяем общее количество агентов\n",
    "\n",
    "results = np.zeros((agents_num, agents_num)) # Инициализируем матрицу результатов игр нулями по горизонтали и вертикали"
   ]
  },
  {
   "cell_type": "markdown",
   "id": "3f4b303f-5296-4d8c-aa3a-aa7fdf5abd39",
   "metadata": {},
   "source": [
    "## 3.3. Инициируем турнир каждого агента против каждого ##"
   ]
  },
  {
   "cell_type": "code",
   "execution_count": 11,
   "id": "0cf76a94-cde1-4b15-91e3-8ea6a4a4674d",
   "metadata": {},
   "outputs": [
    {
     "name": "stdout",
     "output_type": "stream",
     "text": [
      "Турнир окончен!\n"
     ]
    }
   ],
   "source": [
    "games_num = 100 # Количество игр в турнире\n",
    "tournaments_num = 1 # Количество турниров\n",
    "\n",
    "for i in range(agents_num):\n",
    "    for j in range(i+1, agents_num):\n",
    "        scores = evaluate(\n",
    "        \"rps\", # Среда выполнения, нет необходимости изменять\n",
    "        [agents_paths_list[i], agents_paths_list[j]], # Список сражающихся агентов\n",
    "        configuration={\"episodeSteps\": games_num + 1}, # Количество игр в турнире\n",
    "        num_episodes = tournaments_num # Количество турниров\n",
    "        )\n",
    "\n",
    "        # Сохраняем результаты игры в матрицу результатов игр\n",
    "        results[i][j] = scores[0][0]\n",
    "        results[j][i] = scores[0][1]\n",
    "\n",
    "print(\"Турнир окончен!\") # Выводим сообщение об окончании турнира по выходу из цикла"
   ]
  },
  {
   "cell_type": "markdown",
   "id": "6ac1c248-1975-4fba-b5a0-c9c2aa5b1a11",
   "metadata": {},
   "source": [
    "# 4. Визуализируем результаты #"
   ]
  },
  {
   "cell_type": "markdown",
   "id": "ee986239-9308-4ca6-8db6-83310f54f27d",
   "metadata": {},
   "source": [
    "## 4.1. Строим датафрейм с заголовками строк и колонок ##"
   ]
  },
  {
   "cell_type": "markdown",
   "id": "83345008-d279-44c4-8cc2-e51ad322c026",
   "metadata": {},
   "source": [
    "На пересечении строк и колонок отражен результат игр агента по строке против агента по столбцу."
   ]
  },
  {
   "cell_type": "code",
   "execution_count": 12,
   "id": "5c316e4d-30bc-47cc-b39d-8c6b3ddc2a3f",
   "metadata": {},
   "outputs": [
    {
     "data": {
      "text/html": [
       "<div>\n",
       "<style scoped>\n",
       "    .dataframe tbody tr th:only-of-type {\n",
       "        vertical-align: middle;\n",
       "    }\n",
       "\n",
       "    .dataframe tbody tr th {\n",
       "        vertical-align: top;\n",
       "    }\n",
       "\n",
       "    .dataframe thead th {\n",
       "        text-align: right;\n",
       "    }\n",
       "</style>\n",
       "<table border=\"1\" class=\"dataframe\">\n",
       "  <thead>\n",
       "    <tr style=\"text-align: right;\">\n",
       "      <th></th>\n",
       "      <th>rock_agent</th>\n",
       "      <th>paper_agent</th>\n",
       "      <th>scissors_agent</th>\n",
       "      <th>copy_opponent_agent</th>\n",
       "      <th>reactionary_agent</th>\n",
       "      <th>counter_reactionary_agent</th>\n",
       "      <th>statistical_agent</th>\n",
       "    </tr>\n",
       "  </thead>\n",
       "  <tbody>\n",
       "    <tr>\n",
       "      <th>rock_agent</th>\n",
       "      <td>0.0</td>\n",
       "      <td>-100.0</td>\n",
       "      <td>100.0</td>\n",
       "      <td>0.0</td>\n",
       "      <td>-99.0</td>\n",
       "      <td>-50.0</td>\n",
       "      <td>-99.0</td>\n",
       "    </tr>\n",
       "    <tr>\n",
       "      <th>paper_agent</th>\n",
       "      <td>100.0</td>\n",
       "      <td>0.0</td>\n",
       "      <td>-100.0</td>\n",
       "      <td>0.0</td>\n",
       "      <td>-99.0</td>\n",
       "      <td>-49.0</td>\n",
       "      <td>-98.0</td>\n",
       "    </tr>\n",
       "    <tr>\n",
       "      <th>scissors_agent</th>\n",
       "      <td>-100.0</td>\n",
       "      <td>100.0</td>\n",
       "      <td>0.0</td>\n",
       "      <td>0.0</td>\n",
       "      <td>-98.0</td>\n",
       "      <td>-49.0</td>\n",
       "      <td>-100.0</td>\n",
       "    </tr>\n",
       "    <tr>\n",
       "      <th>copy_opponent_agent</th>\n",
       "      <td>0.0</td>\n",
       "      <td>0.0</td>\n",
       "      <td>0.0</td>\n",
       "      <td>0.0</td>\n",
       "      <td>100.0</td>\n",
       "      <td>98.0</td>\n",
       "      <td>-20.0</td>\n",
       "    </tr>\n",
       "    <tr>\n",
       "      <th>reactionary_agent</th>\n",
       "      <td>99.0</td>\n",
       "      <td>99.0</td>\n",
       "      <td>98.0</td>\n",
       "      <td>-100.0</td>\n",
       "      <td>0.0</td>\n",
       "      <td>-98.0</td>\n",
       "      <td>60.0</td>\n",
       "    </tr>\n",
       "    <tr>\n",
       "      <th>counter_reactionary_agent</th>\n",
       "      <td>50.0</td>\n",
       "      <td>49.0</td>\n",
       "      <td>49.0</td>\n",
       "      <td>-98.0</td>\n",
       "      <td>98.0</td>\n",
       "      <td>0.0</td>\n",
       "      <td>0.0</td>\n",
       "    </tr>\n",
       "    <tr>\n",
       "      <th>statistical_agent</th>\n",
       "      <td>99.0</td>\n",
       "      <td>98.0</td>\n",
       "      <td>100.0</td>\n",
       "      <td>20.0</td>\n",
       "      <td>-60.0</td>\n",
       "      <td>0.0</td>\n",
       "      <td>0.0</td>\n",
       "    </tr>\n",
       "  </tbody>\n",
       "</table>\n",
       "</div>"
      ],
      "text/plain": [
       "                           rock_agent  paper_agent  scissors_agent  \\\n",
       "rock_agent                        0.0       -100.0           100.0   \n",
       "paper_agent                     100.0          0.0          -100.0   \n",
       "scissors_agent                 -100.0        100.0             0.0   \n",
       "copy_opponent_agent               0.0          0.0             0.0   \n",
       "reactionary_agent                99.0         99.0            98.0   \n",
       "counter_reactionary_agent        50.0         49.0            49.0   \n",
       "statistical_agent                99.0         98.0           100.0   \n",
       "\n",
       "                           copy_opponent_agent  reactionary_agent  \\\n",
       "rock_agent                                 0.0              -99.0   \n",
       "paper_agent                                0.0              -99.0   \n",
       "scissors_agent                             0.0              -98.0   \n",
       "copy_opponent_agent                        0.0              100.0   \n",
       "reactionary_agent                       -100.0                0.0   \n",
       "counter_reactionary_agent                -98.0               98.0   \n",
       "statistical_agent                         20.0              -60.0   \n",
       "\n",
       "                           counter_reactionary_agent  statistical_agent  \n",
       "rock_agent                                     -50.0              -99.0  \n",
       "paper_agent                                    -49.0              -98.0  \n",
       "scissors_agent                                 -49.0             -100.0  \n",
       "copy_opponent_agent                             98.0              -20.0  \n",
       "reactionary_agent                              -98.0               60.0  \n",
       "counter_reactionary_agent                        0.0                0.0  \n",
       "statistical_agent                                0.0                0.0  "
      ]
     },
     "execution_count": 12,
     "metadata": {},
     "output_type": "execute_result"
    }
   ],
   "source": [
    "results_df = pd.DataFrame(results, index=agents_list, columns=agents_list)\n",
    "results_df"
   ]
  },
  {
   "cell_type": "markdown",
   "id": "a06c6648-d44e-4aec-9614-3f7c1df2873f",
   "metadata": {},
   "source": [
    "## 4.2. Строим матрицу корреляций ##"
   ]
  },
  {
   "cell_type": "code",
   "execution_count": 13,
   "id": "5828be8e-8227-49a1-abe7-271a01c26cd6",
   "metadata": {},
   "outputs": [
    {
     "data": {
      "text/plain": [
       "<Axes: >"
      ]
     },
     "execution_count": 13,
     "metadata": {},
     "output_type": "execute_result"
    },
    {
     "data": {
      "image/png": "[encoded data removed]",
      "text/plain": [
       "<Figure size 640x480 with 2 Axes>"
      ]
     },
     "metadata": {},
     "output_type": "display_data"
    }
   ],
   "source": [
    "corr_matrix = results_df.corr()\n",
    "\n",
    "sns.heatmap(corr_matrix, annot=True, cmap='coolwarm', fmt=\".2f\", linewidths=0.5)"
   ]
  },
  {
   "cell_type": "code",
   "execution_count": null,
   "id": "d3bcf79f-cf45-4a0b-bde0-5464efca25b9",
   "metadata": {},
   "outputs": [],
   "source": []
  }
 ],
 "metadata": {
  "kernelspec": {
   "display_name": "MIPT",
   "language": "python",
   "name": "mipt"
  },
  "language_info": {
   "codemirror_mode": {
    "name": "ipython",
    "version": 3
   },
   "file_extension": ".py",
   "mimetype": "text/x-python",
   "name": "python",
   "nbconvert_exporter": "python",
   "pygments_lexer": "ipython3",
   "version": "3.10.11"
  }
 },
 "nbformat": 4,
 "nbformat_minor": 5
}
